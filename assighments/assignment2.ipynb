{
 "cells": [
  {
   "cell_type": "code",
   "execution_count": 4,
   "id": "2bca73cb-4d7a-47fb-abaa-b4f1ef4b2d0d",
   "metadata": {
    "tags": []
   },
   "outputs": [
    {
     "name": "stdout",
     "output_type": "stream",
     "text": [
      "Requirement already satisfied: numpy in c:\\users\\capul\\anaconda3\\lib\\site-packages (1.24.3)\n",
      "Note: you may need to restart the kernel to use updated packages.\n"
     ]
    }
   ],
   "source": [
    "pip install numpy"
   ]
  },
  {
   "cell_type": "code",
   "execution_count": 5,
   "id": "2ea17f11-dfcd-417c-bad1-d167cd788c8d",
   "metadata": {
    "tags": []
   },
   "outputs": [],
   "source": [
    "import numpy as np"
   ]
  },
  {
   "cell_type": "code",
   "execution_count": 1,
   "id": "b1da6370-4cc8-49db-b287-5142e84ef3cb",
   "metadata": {
    "tags": []
   },
   "outputs": [],
   "source": [
    "subjects=[\"physics\",\"calculus\",\"poetry\",\"history\"]"
   ]
  },
  {
   "cell_type": "code",
   "execution_count": 2,
   "id": "0b895831-4df1-41c8-a0c5-f632c180ebe5",
   "metadata": {
    "tags": []
   },
   "outputs": [],
   "source": [
    "grades=[98,97,85,88]"
   ]
  },
  {
   "cell_type": "code",
   "execution_count": 41,
   "id": "706ebde8-67a4-4f3b-a7fa-4f9ef263098b",
   "metadata": {
    "tags": []
   },
   "outputs": [],
   "source": [
    "gradebook=[[\"physics\",98],[\"calculus\",97],[\"poetry\",85],[\"history\",88]]"
   ]
  },
  {
   "cell_type": "code",
   "execution_count": 42,
   "id": "fe4bfd18-7351-435c-8d30-f081ff18a574",
   "metadata": {
    "tags": []
   },
   "outputs": [
    {
     "data": {
      "text/plain": [
       "[['physics', 98], ['calculus', 97], ['poetry', 85], ['history', 88]]"
      ]
     },
     "execution_count": 42,
     "metadata": {},
     "output_type": "execute_result"
    }
   ],
   "source": [
    "gradebook"
   ]
  },
  {
   "cell_type": "code",
   "execution_count": 43,
   "id": "e91fa3e7-159f-459c-a664-870550611c9c",
   "metadata": {
    "tags": []
   },
   "outputs": [],
   "source": [
    "gradebook.append([\"computer sience\",100])"
   ]
  },
  {
   "cell_type": "code",
   "execution_count": 44,
   "id": "d98bd910-4028-468f-8078-8dc2e123646d",
   "metadata": {
    "tags": []
   },
   "outputs": [],
   "source": [
    "gradebook.append([\"visual arts\", 93])"
   ]
  },
  {
   "cell_type": "code",
   "execution_count": 45,
   "id": "95b093a7-eeb9-488b-a944-612b8fa4b087",
   "metadata": {
    "tags": []
   },
   "outputs": [
    {
     "data": {
      "text/plain": [
       "[['physics', 98],\n",
       " ['calculus', 97],\n",
       " ['poetry', 85],\n",
       " ['history', 88],\n",
       " ['computer sience', 100],\n",
       " ['visual arts', 93]]"
      ]
     },
     "execution_count": 45,
     "metadata": {},
     "output_type": "execute_result"
    }
   ],
   "source": [
    "gradebook"
   ]
  },
  {
   "cell_type": "code",
   "execution_count": 46,
   "id": "f02ed4a8-9cb5-4f45-8372-b01001e7f716",
   "metadata": {
    "tags": []
   },
   "outputs": [],
   "source": [
    "gradebook[5][1]+=5"
   ]
  },
  {
   "cell_type": "code",
   "execution_count": 47,
   "id": "2a564a43-7ff4-41f9-9601-65b72807e945",
   "metadata": {
    "tags": []
   },
   "outputs": [],
   "source": [
    "gradebook.remove(gradebook[2])"
   ]
  },
  {
   "cell_type": "code",
   "execution_count": 48,
   "id": "6aee3e11-e0c7-48da-8f8a-32062f099f6d",
   "metadata": {
    "tags": []
   },
   "outputs": [],
   "source": [
    "gradebook.append([\"poetry\",\"Pass\"])"
   ]
  },
  {
   "cell_type": "code",
   "execution_count": 49,
   "id": "2f2199e4-7d92-438c-9232-ac4f36935dc8",
   "metadata": {
    "tags": []
   },
   "outputs": [
    {
     "data": {
      "text/plain": [
       "[['physics', 98],\n",
       " ['calculus', 97],\n",
       " ['history', 88],\n",
       " ['computer sience', 100],\n",
       " ['visual arts', 98],\n",
       " ['poetry', 'Pass']]"
      ]
     },
     "execution_count": 49,
     "metadata": {},
     "output_type": "execute_result"
    }
   ],
   "source": [
    "gradebook"
   ]
  },
  {
   "cell_type": "code",
   "execution_count": 50,
   "id": "287731c9-cf2d-4588-83b0-cee4022fb7b1",
   "metadata": {
    "tags": []
   },
   "outputs": [],
   "source": [
    "last_semester_gradebook = [[\"politics\", 80], [\"latin\", 96], [\"dance\", 97], [\"architecture\", 65]]"
   ]
  },
  {
   "cell_type": "code",
   "execution_count": 51,
   "id": "7a5d5fb3-91b0-4a9a-b3b5-75534796903b",
   "metadata": {
    "tags": []
   },
   "outputs": [],
   "source": [
    "full_gradebook=last_semester_gradebook+gradebook"
   ]
  },
  {
   "cell_type": "code",
   "execution_count": 53,
   "id": "242a2e8e-9fc1-473d-9f7e-ab6fc01bdc05",
   "metadata": {
    "tags": []
   },
   "outputs": [
    {
     "data": {
      "text/plain": [
       "[['politics', 80],\n",
       " ['latin', 96],\n",
       " ['dance', 97],\n",
       " ['architecture', 65],\n",
       " ['physics', 98],\n",
       " ['calculus', 97],\n",
       " ['history', 88],\n",
       " ['computer sience', 100],\n",
       " ['visual arts', 98],\n",
       " ['poetry', 'Pass']]"
      ]
     },
     "execution_count": 53,
     "metadata": {},
     "output_type": "execute_result"
    }
   ],
   "source": [
    "full_gradebook"
   ]
  }
 ],
 "metadata": {
  "kernelspec": {
   "display_name": "Python 3 (ipykernel)",
   "language": "python",
   "name": "python3"
  },
  "language_info": {
   "codemirror_mode": {
    "name": "ipython",
    "version": 3
   },
   "file_extension": ".py",
   "mimetype": "text/x-python",
   "name": "python",
   "nbconvert_exporter": "python",
   "pygments_lexer": "ipython3",
   "version": "3.11.4"
  }
 },
 "nbformat": 4,
 "nbformat_minor": 5
}
